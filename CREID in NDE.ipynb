{
 "cells": [
  {
   "cell_type": "markdown",
   "id": "d9a62909",
   "metadata": {},
   "source": [
    "## CREID coverage in NDE - initial check\n",
    "This script checks the NDE for datasets belonging to CREID based on grant IDs\n",
    "\n",
    "Here are the 10 grant numbers for the CREID Research Centers:\n",
    "1. CREID-ESP: Washington University in St. Louis - David Wang:              U01AI151810-02\n",
    "2. WARN-ID: Scripps - Kristian Andersen:  1U01AI151812-01\n",
    "3. UWARN: University of Washington - Wesley Van Voorhis:    1U01AI151698-01\n",
    "4. CREID-ECA: Washington State University - Kariuki Njenga:   1U01AI151799-01\n",
    "5. CREATE-NEO: University of TX Medical Branch, Galveston - Nikos Vasilakis:  1U01AI151807-01\n",
    "6. WAC-EID: University of TX Medical Branch, Galveston - Scott Weaver:  1U01 AI151801-01\n",
    "7. EID-SEARCH: EcoHealth Alliance - Peter Daszak:  1U01AI151797-01\n",
    "8. EEIDI: UC Davis - Christine Johnson:   1U01AI151814-01\n",
    "9. PICREID: Institut Pasteur - Anavaj Sakuntabhai:   1U01AI151758-01\n",
    "10. A2CARES: UC Berkeley - Eva Harris:   1U01 AI151788-01\n"
   ]
  },
  {
   "cell_type": "code",
   "execution_count": 23,
   "id": "88217e8d",
   "metadata": {},
   "outputs": [],
   "source": [
    "import requests\n",
    "import pandas as pd\n",
    "import json\n",
    "import os\n",
    "import time"
   ]
  },
  {
   "cell_type": "code",
   "execution_count": 5,
   "id": "2fab2626",
   "metadata": {},
   "outputs": [],
   "source": [
    "## Due to inconsistent use of Grant IDs, the bare minimum portion should be used for greatest coverage\n",
    "\n",
    "def strip_grant_id(grant_id):\n",
    "    grant_parts = grant_id.split('-')\n",
    "    main_part = grant_parts[0]\n",
    "    if \"1U01\" in main_part:\n",
    "        no_mech = main_part.replace(\"1U01\",\"\")\n",
    "    else:\n",
    "        no_mech = main_part.replace(\"U01\",\"\")\n",
    "    return no_mech"
   ]
  },
  {
   "cell_type": "code",
   "execution_count": 3,
   "id": "35311aea",
   "metadata": {},
   "outputs": [
    {
     "name": "stdout",
     "output_type": "stream",
     "text": [
      "      Center                             Instition                 PI  \\\n",
      "0  CREID-ESP   Washington University in St. Louis          David Wang   \n",
      "1    WARN-ID                              Scripps   Kristian Andersen   \n",
      "\n",
      "           GrantID  \n",
      "0   U01AI151810-02  \n",
      "1  1U01AI151812-01  \n"
     ]
    }
   ],
   "source": [
    "script_path = os.getcwd()\n",
    "data_path = os.path.join(script_path,'data')\n",
    "grantidfile = os.path.join(data_path,'CREID_grants.txt')\n",
    "creid_grants = pd.read_csv(grantidfile,sep='\\t',header=None)\n",
    "creid_grants.rename(columns={0:'Center',1:'Instition',2:'PI',3:'GrantID'},inplace=True)\n",
    "print(creid_grants.head(n=2))"
   ]
  },
  {
   "cell_type": "code",
   "execution_count": 4,
   "id": "51a8e530",
   "metadata": {},
   "outputs": [
    {
     "name": "stdout",
     "output_type": "stream",
     "text": [
      "['U01AI151810-02', '1U01AI151812-01', '1U01AI151698-01', '1U01AI151799-01', '1U01AI151807-01', '1U01AI151801-01', '1U01AI151797-01', '1U01AI151814-01', '1U01AI151758-01', '1U01AI151788-01']\n"
     ]
    }
   ],
   "source": [
    "print(creid_grants['GrantID'].tolist())"
   ]
  },
  {
   "cell_type": "code",
   "execution_count": 7,
   "id": "a3bd78d2",
   "metadata": {},
   "outputs": [
    {
     "name": "stdout",
     "output_type": "stream",
     "text": [
      "      Center                             Instition                 PI  \\\n",
      "0  CREID-ESP   Washington University in St. Louis          David Wang   \n",
      "1    WARN-ID                              Scripps   Kristian Andersen   \n",
      "\n",
      "           GrantID stripped_id  \n",
      "0   U01AI151810-02    AI151810  \n",
      "1  1U01AI151812-01    AI151812  \n"
     ]
    }
   ],
   "source": [
    "creid_grants['stripped_id'] = creid_grants.apply(lambda x: strip_grant_id(x['GrantID']), axis=1)\n",
    "print(creid_grants.head(n=2))"
   ]
  },
  {
   "cell_type": "code",
   "execution_count": 8,
   "id": "4a5360a0",
   "metadata": {},
   "outputs": [
    {
     "name": "stdout",
     "output_type": "stream",
     "text": [
      "['AI151810', 'AI151812', 'AI151698', 'AI151799', 'AI151807', 'AI151801', 'AI151797', 'AI151814', 'AI151758', 'AI151788']\n"
     ]
    }
   ],
   "source": [
    "grant_list = creid_grants['stripped_id'].unique().tolist()\n",
    "print(grant_list)"
   ]
  },
  {
   "cell_type": "code",
   "execution_count": 24,
   "id": "2673d23e",
   "metadata": {},
   "outputs": [
    {
     "name": "stdout",
     "output_type": "stream",
     "text": [
      "11\n",
      "  stripped_id       nde_id\n",
      "0    AI151810  PRJNA657062\n",
      "1    AI151810    GSE156219\n",
      "6\n",
      "  stripped_id nde_id\n",
      "0    AI151799   None\n",
      "1    AI151807   None\n",
      "2    AI151797   None\n",
      "3    AI151814   None\n",
      "4    AI151758   None\n",
      "5    AI151788   None\n"
     ]
    }
   ],
   "source": [
    "## Search the NDE for the grant ids. I used the staging API since there are a few more sources in the staging API\n",
    "creid_in_nde = []\n",
    "no_data_found = []\n",
    "for eachgrantid in grant_list:\n",
    "    url = f\"https://api-staging.data.niaid.nih.gov/v1/query?&q=funding.identifier:*{eachgrantid}*\"\n",
    "    r = requests.get(url)\n",
    "    json_result = json.loads(r.text)\n",
    "    resultlist = json_result['hits']\n",
    "    if len(resultlist) > 0:\n",
    "        for eachhit in resultlist:\n",
    "            creid_in_nde.append({'stripped_id':eachgrantid, 'nde_id':eachhit['_id']})\n",
    "    else:\n",
    "        no_data_found.append({'stripped_id':eachgrantid,'nde_id':'None'})\n",
    "\n",
    "creid_in_nde_df = pd.DataFrame(creid_in_nde)\n",
    "no_data_found_df = pd.DataFrame(no_data_found)\n",
    "\n",
    "print(len(creid_in_nde_df))\n",
    "print(creid_in_nde_df.head(n=2))\n",
    "print(len(no_data_found_df))\n",
    "print(no_data_found_df)"
   ]
  },
  {
   "cell_type": "code",
   "execution_count": 21,
   "id": "89d87ca8",
   "metadata": {},
   "outputs": [
    {
     "name": "stdout",
     "output_type": "stream",
     "text": [
      "   stripped_id       nde_id\n",
      "0     AI151810  PRJNA657062\n",
      "1     AI151810    GSE156219\n",
      "2     AI151810    GSE193990\n",
      "3     AI151812    GSE189787\n",
      "4     AI151698    GSE162736\n",
      "5     AI151698    GSE179722\n",
      "6     AI151698    GSE223236\n",
      "7     AI151698    GSE176386\n",
      "8     AI151698    GSE157175\n",
      "9     AI151698  PRJNA682812\n",
      "10    AI151801    GSE209750\n"
     ]
    }
   ],
   "source": [
    "print(creid_in_nde_df)"
   ]
  },
  {
   "cell_type": "code",
   "execution_count": 42,
   "id": "40884fcb",
   "metadata": {},
   "outputs": [],
   "source": [
    "## Export the results\n",
    "creid_in_nde_df.to_csv(os.path.join(data_path,'found_in_nde.tsv'),sep='\\t',header=True)\n",
    "no_data_found_df.to_csv(os.path.join(data_path,'not_found_in_nde.tsv'),sep='\\t',header=True)"
   ]
  },
  {
   "cell_type": "markdown",
   "id": "10d89dbc",
   "metadata": {},
   "source": [
    "## Publications associated with grants\n",
    "\n",
    "Pull PMIDs associated with grant ids. Also check other NCBI DBs for the grant ids\n"
   ]
  },
  {
   "cell_type": "code",
   "execution_count": 25,
   "id": "e8aec56a",
   "metadata": {},
   "outputs": [],
   "source": [
    "from Bio import Entrez\n",
    "from Bio import Medline"
   ]
  },
  {
   "cell_type": "code",
   "execution_count": 26,
   "id": "0e279983",
   "metadata": {},
   "outputs": [],
   "source": [
    "Entrez.email = \"your email here\""
   ]
  },
  {
   "cell_type": "code",
   "execution_count": 43,
   "id": "623828c5",
   "metadata": {},
   "outputs": [],
   "source": [
    "## Find anything associated with the grant id across various databases\n",
    "\n",
    "datalist = []\n",
    "datalist2 = []\n",
    "for eachgrantid in grant_list:\n",
    "    handle = Entrez.egquery(term=eachgrantid)\n",
    "    record = Entrez.read(handle)\n",
    "    tmpdict2 = {\"stripped grant id\":eachgrantid}\n",
    "    for row in record[\"eGQueryResult\"]:\n",
    "        tmpdict2[row[\"DbName\"]]=row[\"Count\"]\n",
    "        if row[\"Count\"]!=\"Error\":\n",
    "            if int(row[\"Count\"])>0:\n",
    "                tmpdict={\"stripped grant id\":eachgrantid,\"db\":row[\"DbName\"], \"count\":row[\"Count\"]}\n",
    "                datalist.append(tmpdict)\n",
    "    datalist2.append(tmpdict2)\n",
    "    time.sleep(1)\n",
    "\n",
    "df1 = pd.DataFrame(datalist)\n",
    "df2 = pd.DataFrame(datalist2)\n",
    "df1.to_csv(os.path.join(data_path,'grant_associated_assets.tsv'),sep='\\t',header=True)\n",
    "df2.to_csv(os.path.join(data_path,'grant_all_db_counts.tsv'),sep='\\t',header=True)"
   ]
  },
  {
   "cell_type": "code",
   "execution_count": 44,
   "id": "01519991",
   "metadata": {},
   "outputs": [
    {
     "name": "stdout",
     "output_type": "stream",
     "text": [
      "  stripped grant id      db count\n",
      "0          AI151810  pubmed    70\n",
      "1          AI151810     pmc    84\n",
      "  stripped grant id pubmed pmc mesh books pubmedhealth omim ncbisearch  \\\n",
      "0          AI151810     70  84    0     0        Error    0          0   \n",
      "1          AI151812     63  51    0     0        Error    0          0   \n",
      "\n",
      "  nuccore nucgss  ... pccompound pcsubstance pcassay nlmcatalog probe gap  \\\n",
      "0       1      0  ...          0           0       0          0     0   0   \n",
      "1       1      0  ...          0           0       0          0     0   0   \n",
      "\n",
      "  proteinclusters bioproject biosample biocollections  \n",
      "0               0          0         0              0  \n",
      "1               0          3         0              0  \n",
      "\n",
      "[2 rows x 37 columns]\n"
     ]
    }
   ],
   "source": [
    "print(df.head(n=2))\n",
    "print(df2.head(n=2))"
   ]
  },
  {
   "cell_type": "code",
   "execution_count": 41,
   "id": "65cfb29c",
   "metadata": {},
   "outputs": [],
   "source": []
  },
  {
   "cell_type": "code",
   "execution_count": null,
   "id": "0b607614",
   "metadata": {},
   "outputs": [],
   "source": [
    "handle = Entrez.efetch(db=\"pubmed\", id=test_pmid, rettype=\"medline\", retmode=\"text\")\n",
    "records = Medline.parse(handle) ##parses pubmed entry for that ID and records the author\n",
    "for record in records:\n",
    "    MESHSet = record.get(\"MH\",\"?\") #writes the record to a list called MH\n"
   ]
  }
 ],
 "metadata": {
  "kernelspec": {
   "display_name": "Python 3 (ipykernel)",
   "language": "python",
   "name": "python3"
  },
  "language_info": {
   "codemirror_mode": {
    "name": "ipython",
    "version": 3
   },
   "file_extension": ".py",
   "mimetype": "text/x-python",
   "name": "python",
   "nbconvert_exporter": "python",
   "pygments_lexer": "ipython3",
   "version": "3.10.10"
  }
 },
 "nbformat": 4,
 "nbformat_minor": 5
}
